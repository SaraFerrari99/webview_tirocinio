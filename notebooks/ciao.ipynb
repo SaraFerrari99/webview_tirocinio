{
 "cells": [
  {
   "cell_type": "code",
   "execution_count": 10,
   "metadata": {
    "dotnet_interactive": {
     "language": "javascript"
    },
    "polyglot_notebook": {
     "kernelName": "javascript"
    }
   },
   "outputs": [
    {
     "data": {
      "application/vnd.jupyter.widget-view+json": {
       "model_id": "4225c1d2ef4142adb1dda1f5bc238da0",
       "version_major": 2,
       "version_minor": 0
      },
      "text/plain": [
       "VBox(children=(Label(value=\"Qual è la capitale dell'Italia?\", _dom_classes=('redlabel',)), Button(description=…"
      ]
     },
     "metadata": {},
     "output_type": "display_data"
    }
   ],
   "source": [
    "import ipywidgets as widgets\n",
    "from IPython.display import display, clear_output\n",
    "\n",
    "\n",
    "questions = [\n",
    "    {\n",
    "        \"question\": \"Qual è la capitale dell'Italia?\",\n",
    "        \"options\": [\"Roma\", \"Milano\", \"Napoli\", \"Firenze\"],\n",
    "        \"correct_answer\": \"Roma\"\n",
    "    },\n",
    "    {\n",
    "        \"question\": \"Quale è il fiume più lungo del mondo?\",\n",
    "        \"options\": [\"Nilo\", \"Amazzoni\", \"Mississippi\", \"Yellow River\"],\n",
    "        \"correct_answer\": \"Nilo\"\n",
    "    }\n",
    "]\n",
    "\n",
    "question_text = widgets.Label()\n",
    "options_buttons = [widgets.Button(description='', layout=widgets.Layout(width='auto')) for _ in range(4)]\n",
    "forward_button = widgets.Button(description=\"Avanti\")\n",
    "output = widgets.Output()\n",
    "\n",
    "state = {\"current_question\": 0, \"answered\": False, \"score\": 0}\n",
    "\n",
    "vbox = widgets.VBox()\n",
    "\n",
    "def show_next_question(change=None):\n",
    "    vbox.children = [output]\n",
    "    clear_output()\n",
    "    if state[\"current_question\"] < len(questions):\n",
    "        question = questions[state[\"current_question\"]]\n",
    "        question_text.value = question[\"question\"]\n",
    "        for i in range(4):\n",
    "            options_buttons[i].description = question[\"options\"][i]\n",
    "            options_buttons[i].on_click(on_button_clicked)\n",
    "            options_buttons[i].style.button_color = 'lightgray'\n",
    "            options_buttons[i].style.description_color = 'black'\n",
    "        forward_button.on_click(on_forward_button_clicked)\n",
    "        vbox.children = [question_text] + options_buttons + [forward_button] + [output]\n",
    "        display(vbox)\n",
    "    else:\n",
    "        show_score()\n",
    "\n",
    "def on_button_clicked(b):\n",
    "    selected_answer = b.description\n",
    "    correct_answer = questions[state[\"current_question\"]][\"correct_answer\"]\n",
    "    if not state[\"answered\"]:\n",
    "        state[\"answered\"] = True\n",
    "        for button in options_buttons:\n",
    "            button.disabled = True\n",
    "        if selected_answer == correct_answer:\n",
    "            b.style.button_color = 'lightgreen'\n",
    "            b.style.description_color = 'yellow'\n",
    "            state[\"score\"] += 1\n",
    "        else:\n",
    "            b.style.button_color = 'tomato'\n",
    "            b.style.description_color = 'yellow'\n",
    "        state[\"answered\"] = False  # Reset the answered flag for the new question\n",
    "\n",
    "def on_forward_button_clicked(b):\n",
    "    state[\"current_question\"] += 1\n",
    "    for button in options_buttons:\n",
    "        button.disabled = False\n",
    "    show_next_question()\n",
    "\n",
    "def show_score():\n",
    "    vbox.children = [output]\n",
    "    score_text = f\"Hai totalizzato {state['score']} risposte corrette su {len(questions)} domande.\"\n",
    "    score_label = widgets.Label(value=score_text)\n",
    "    vbox.children = [score_label, output]\n",
    "    display(vbox)\n",
    "\n",
    "show_next_question()\n",
    "\n"
   ]
  }
 ],
 "metadata": {
  "kernelspec": {
   "display_name": "Python 3",
   "language": "python",
   "name": "python3"
  },
  "language_info": {
   "codemirror_mode": {
    "name": "ipython",
    "version": 3
   },
   "file_extension": ".py",
   "mimetype": "text/x-python",
   "name": "python",
   "nbconvert_exporter": "python",
   "pygments_lexer": "ipython3",
   "version": "3.11.5"
  },
  "polyglot_notebook": {
   "kernelInfo": {
    "defaultKernelName": "csharp",
    "items": [
     {
      "aliases": [],
      "name": "csharp"
     }
    ]
   }
  }
 },
 "nbformat": 4,
 "nbformat_minor": 2
}
