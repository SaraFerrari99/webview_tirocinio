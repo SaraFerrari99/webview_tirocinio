{
 "cells": [
  {
   "cell_type": "markdown",
   "metadata": {},
   "source": [
    "<!DOCTYPE html>\n",
    "  <html lang=\"en\">\n",
    "  <head>\n",
    "      <meta charset=\"UTF-8\">\n",
    "      <meta name=\"viewport\" content=\"width=device-width, initial-scale=1.0\">\n",
    "      <title>Welcome</title>\n",
    "      <style>\n",
    "        .test {\n",
    "            background-image: url('download.jpg');\n",
    "            /*background-size: cover;*/\n",
    "            padding: 20px;\n",
    "            width: 100px;\n",
    "            height: 500px;\n",
    "            background-repeat: no-repeat;\n",
    "        }\n",
    "    </style>\n",
    "  </head>\n",
    "    <body>\n",
    "      <div class= \"test\">\n",
    "        <p style=\"color: black\">Guarda che bel pinguino!</p>\n",
    "      </div>    \n",
    "  </body>\n",
    "  </html>"
   ]
  }
 ],
 "metadata": {
  "language_info": {
   "name": "csharp"
  },
  "orig_nbformat": 4
 },
 "nbformat": 4,
 "nbformat_minor": 2
}
